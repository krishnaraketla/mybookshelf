{
 "cells": [
  {
   "cell_type": "code",
   "execution_count": 6,
   "metadata": {},
   "outputs": [
    {
     "name": "stdout",
     "output_type": "stream",
     "text": [
      "Books you have rated:\n",
      "Book ID: 7300, Title: The Bell Jar, Rating: 2\n",
      "Book ID: 1201, Title: Little Women, Rating: 3\n",
      "Book ID: 100385, Title: Cobalt Blue: The Novel, Rating: 1\n",
      "Book ID: 530615, Title: The Sins of the Father, Rating: 5\n",
      "Book ID: 48625, Title: Call Me by Your Name, Rating: 1\n",
      "Book ID: 14870, Title: The Pact, Rating: 3\n",
      "Book ID: 7170, Title: The Picture of Dorian Gray, Rating: 2\n",
      "Book ID: 19782, Title: Sula, Rating: 4\n",
      "Book ID: 1146577, Title: Never Let Me Go, Rating: 5\n",
      "\n",
      "Books we recommend:\n",
      "Book ID: 14736, Title: Magic Hour, Predicted Rating: 3.74\n",
      "Book ID: 14596, Title: None, Predicted Rating: 3.74\n",
      "Book ID: 14839, Title: PS, I Love You, Predicted Rating: 3.74\n",
      "Book ID: 14800, Title: None, Predicted Rating: 3.74\n",
      "Book ID: 14754, Title: True Colors, Predicted Rating: 3.74\n",
      "Book ID: 14753, Title: Between Sisters, Predicted Rating: 3.74\n",
      "Book ID: 14737, Title: A Dog's Journey: Another Novel for Humans, Predicted Rating: 3.74\n",
      "Book ID: 14710, Title: nan, Predicted Rating: 3.74\n",
      "Book ID: 14703, Title: nan, Predicted Rating: 3.74\n",
      "Book ID: 14702, Title: Zeitoun, Predicted Rating: 3.74\n",
      "Book ID: 14684, Title: Unaccustomed Earth, Predicted Rating: 3.74\n",
      "Book ID: 14653, Title: Neil Patrick Harris: Choose Your Own Autobiography, Predicted Rating: 3.74\n",
      "Book ID: 14615, Title: The Sleepwalker's Guide to Dancing, Predicted Rating: 3.74\n",
      "Book ID: 14609, Title: nan, Predicted Rating: 3.74\n",
      "Book ID: 14592, Title: None, Predicted Rating: 3.74\n",
      "Book ID: 14846, Title: Safe Haven, Predicted Rating: 3.74\n",
      "Book ID: 14590, Title: Food: A Love Story, Predicted Rating: 3.74\n",
      "Book ID: 14584, Title: nan, Predicted Rating: 3.74\n",
      "Book ID: 14578, Title: Modern Lovers, Predicted Rating: 3.74\n",
      "Book ID: 14567, Title: None, Predicted Rating: 3.74\n"
     ]
    }
   ],
   "source": [
    "# Importing the necessary modules\n",
    "import pandas as pd\n",
    "import numpy as np\n",
    "from scipy.sparse import csr_matrix\n",
    "from sklearn.metrics.pairwise import cosine_similarity\n",
    "from sklearn.model_selection import train_test_split\n",
    "import sys\n",
    "import os\n",
    "\n",
    "# Add the directory containing your module to the Python path (wants absolute paths)\n",
    "sys.path.insert(0, os.path.abspath('.'))\n",
    "\n",
    "# Now we can import the UserUserCF class\n",
    "from user_user_cf import UserUserCF\n",
    "\n",
    "# Create an instance of the UserUserCF class\n",
    "recommender = UserUserCF(\"../data/interactions.csv\", \"../data/book_id_map.csv\", \"../data/book_works.csv\")\n",
    "\n",
    "# New user ratings\n",
    "new_user_ratings = pd.DataFrame({\n",
    "    'user_id': [9999999999] * 9,\n",
    "    'book_id': [7300, 1201, 100385, 530615, 48625, 14870, 7170, 19782, 1146577],\n",
    "    'rating': [2, 3, 1, 5, 1, 3, 2, 4, 5]\n",
    "})\n",
    "\n",
    "# Get recommendations for the new user\n",
    "recommender.recommend_books(new_user_ratings, n=20)"
   ]
  }
 ],
 "metadata": {
  "kernelspec": {
   "display_name": "mlp",
   "language": "python",
   "name": "python3"
  },
  "language_info": {
   "codemirror_mode": {
    "name": "ipython",
    "version": 3
   },
   "file_extension": ".py",
   "mimetype": "text/x-python",
   "name": "python",
   "nbconvert_exporter": "python",
   "pygments_lexer": "ipython3",
   "version": "3.8.13"
  }
 },
 "nbformat": 4,
 "nbformat_minor": 2
}
