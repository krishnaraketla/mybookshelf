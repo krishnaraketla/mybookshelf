{
 "cells": [
  {
   "cell_type": "markdown",
   "metadata": {},
   "source": [
    "# In memory collaboarative filtering"
   ]
  },
  {
   "cell_type": "markdown",
   "metadata": {},
   "source": [
    "### works better with full interactions. (Unread book ratings included)"
   ]
  },
  {
   "cell_type": "code",
   "execution_count": 9,
   "metadata": {},
   "outputs": [],
   "source": [
    "import pandas as pd\n",
    "import numpy as np\n",
    "# Load the CSV files\n",
    "book_id_map_df = pd.read_csv(\"./data/book_id_map.csv\")\n",
    "book_works_df = pd.read_csv(\"./data/book_works.csv\")\n",
    "\n",
    "book_id_map = dict(zip(book_id_map_df['book_id_csv'], book_id_map_df['book_id']))\n",
    "\n",
    "def get_work_id(book_id):\n",
    "    return book_id_map[book_id]\n",
    "\n",
    "# Define the function to get original title by work_id\n",
    "def get_original_title_by_book_id(work_id, book_works_df):\n",
    "    # Find the row with the matching best_book_id\n",
    "    match = book_works_df[book_works_df['best_book_id'] == work_id]\n",
    "    \n",
    "    # If a match is found, return the original title\n",
    "    if not match.empty:\n",
    "        return match['original_title'].values[0]\n",
    "    else:\n",
    "        return None"
   ]
  },
  {
   "cell_type": "markdown",
   "metadata": {},
   "source": [
    "## User - User CF"
   ]
  },
  {
   "cell_type": "code",
   "execution_count": 115,
   "metadata": {},
   "outputs": [],
   "source": [
    "import pandas as pd\n",
    "import numpy as np\n",
    "from sklearn.metrics.pairwise import cosine_similarity\n",
    "\n",
    "def normalize_ratings(user_item_matrix):\n",
    "    user_means = user_item_matrix.mean(axis=1)\n",
    "    normalized_matrix = (user_item_matrix.T - user_means).T\n",
    "    return normalized_matrix, user_means\n",
    "\n",
    "def pearson_similarity(user_item_matrix):\n",
    "    user_similarity = user_item_matrix.T.corr(method='pearson')\n",
    "    return user_similarity\n",
    "\n",
    "def get_user_based_recommendations(interactions, new_user_ratings, n=10):\n",
    "    \"\"\"\n",
    "    Generate user-based collaborative filtering recommendations for a new user.\n",
    "\n",
    "    Parameters:\n",
    "    - interactions (pd.DataFrame): Existing user-item interactions DataFrame.\n",
    "    - new_user_ratings (pd.DataFrame): New user's ratings DataFrame with columns ['user_id', 'book_id', 'rating'].\n",
    "    - n (int): Number of recommendations to generate.\n",
    "\n",
    "    Returns:\n",
    "    - list: Top-N recommended book IDs for the new user.\n",
    "    \"\"\"\n",
    "\n",
    "    def predict_ratings(user_item_matrix, user_similarity_df, user_means):\n",
    "        ratings_diff = user_item_matrix\n",
    "        pred = user_means[:, np.newaxis] + user_similarity_df.dot(ratings_diff) / np.array([np.abs(user_similarity_df).sum(axis=1)]).T\n",
    "        return pred\n",
    "\n",
    "    def get_top_n_recommendations(predicted_ratings_df, user_id, n=10):\n",
    "        user_pred_ratings = predicted_ratings_df.loc[user_id]\n",
    "        user_pred_ratings_sorted = user_pred_ratings.sort_values(ascending=False)\n",
    "        top_n_books = user_pred_ratings_sorted.index[:n]\n",
    "        top_n_scores = user_pred_ratings_sorted.values[:n]\n",
    "        return top_n_books, top_n_scores\n",
    "\n",
    "    # Append the new user's ratings to the interactions DataFrame\n",
    "    updated_interactions = pd.concat([interactions, new_user_ratings], ignore_index=True)\n",
    "\n",
    "    # Create the updated user-item interaction matrix\n",
    "    updated_user_item_matrix = updated_interactions.pivot(index='user_id', columns='book_id', values='rating')\n",
    "    updated_user_item_matrix.fillna(0, inplace=True)\n",
    "    \n",
    "    # Normalize the ratings\n",
    "    normalized_matrix, user_means = normalize_ratings(updated_user_item_matrix)\n",
    "\n",
    "    # Compute the updated user similarity matrix\n",
    "    # Compute the user similarity matrix using Pearson correlation\n",
    "    user_similarity = cosine_similarity(normalized_matrix)\n",
    "    user_similarity_df = pd.DataFrame(user_similarity, index=updated_user_item_matrix.index, columns=updated_user_item_matrix.index)\n",
    "    \n",
    "    # Predict ratings for the updated user-item matrix\n",
    "    predicted_ratings = predict_ratings(normalized_matrix.values, user_similarity_df, user_means.values)\n",
    "    predicted_ratings_df = pd.DataFrame(predicted_ratings, index=updated_user_item_matrix.index, columns=updated_user_item_matrix.columns)\n",
    "    \n",
    "    # Get top-N recommendations for the new user\n",
    "    new_user_id = new_user_ratings['user_id'].iloc[0]\n",
    "    top_n_recommendations, top_n_scores = get_top_n_recommendations(predicted_ratings_df, new_user_id, n)\n",
    "\n",
    "    return top_n_recommendations.tolist(), top_n_scores.tolist()"
   ]
  },
  {
   "cell_type": "code",
   "execution_count": 183,
   "metadata": {},
   "outputs": [],
   "source": [
    "# New user's ratings DataFrame\n",
    "new_user_ratings = pd.DataFrame({\n",
    "    'user_id': 999999999,  # Replace with the new user's ID\n",
    "    'book_id': [7300, 1201, 7057, 530615, 943],\n",
    "    'rating': [3, 4, 2, 5, 1]\n",
    "})"
   ]
  },
  {
   "cell_type": "code",
   "execution_count": 178,
   "metadata": {},
   "outputs": [
    {
     "name": "stdout",
     "output_type": "stream",
     "text": [
      "The Bell Jar\n",
      "Little Women\n",
      "Throne of Glass\n",
      "The Sins of the Father\n",
      "Harry Potter and the Philosopher's Stone\n"
     ]
    }
   ],
   "source": [
    "new_user_books = [7300, 1201, 7057, 530615, 943]\n",
    "\n",
    "for book_id in new_user_books:\n",
    "    work_id = get_work_id(book_id)\n",
    "    print(get_original_title_by_book_id(work_id, book_works_df))"
   ]
  },
  {
   "cell_type": "code",
   "execution_count": 88,
   "metadata": {},
   "outputs": [
    {
     "name": "stdout",
     "output_type": "stream",
     "text": [
      "Top-10 user-based recommendations for the new user: [1201, 19506, 7300, 943, 7057, 536, 941, 939, 613, 938, 1387, 1386, 786, 1000, 944, 1574, 968, 524, 1012, 862, 1211, 1003, 670, 997, 1013, 7432, 1002, 7008, 821, 828]\n"
     ]
    }
   ],
   "source": [
    "# Example usage:\n",
    "# Existing interactions DataFrame\n",
    "interactions = pd.read_csv(\"./data/interactions.csv\")\n",
    "\n",
    "# Get user-based CF recommendations\n",
    "top_n_recommendations_user_based, top_n_scores_user_based = get_user_based_recommendations(interactions, new_user_ratings, n=30)\n",
    "print(f\"Top-10 user-based recommendations for the new user: {top_n_recommendations_user_based}\")"
   ]
  },
  {
   "cell_type": "markdown",
   "metadata": {},
   "source": [
    "## Item - Item CF"
   ]
  },
  {
   "cell_type": "code",
   "execution_count": 101,
   "metadata": {},
   "outputs": [
    {
     "name": "stdout",
     "output_type": "stream",
     "text": [
      "Top-10 item-based recommendations for the new user: [530615, 15455, 15428, 15429, 15437, 15441, 15449, 15473, 15456, 15467, 15459, 15460, 15461, 15463, 15464, 15465, 15426, 15476, 15477, 7892, 7895, 13533, 7246, 7204, 12894, 15466, 6888, 6889, 6890, 6891]\n"
     ]
    }
   ],
   "source": [
    "import pandas as pd\n",
    "import numpy as np\n",
    "from sklearn.metrics.pairwise import cosine_similarity\n",
    "\n",
    "def get_item_based_recommendations(interactions, new_user_ratings, n=10):\n",
    "    \"\"\"\n",
    "    Generate item-based collaborative filtering recommendations for a new user.\n",
    "\n",
    "    Parameters:\n",
    "    - interactions (pd.DataFrame): Existing user-item interactions DataFrame.\n",
    "    - new_user_ratings (pd.DataFrame): New user's ratings DataFrame with columns ['user_id', 'book_id', 'rating'].\n",
    "    - n (int): Number of recommendations to generate.\n",
    "\n",
    "    Returns:\n",
    "    - list: Top-N recommended book IDs for the new user.\n",
    "    \"\"\"\n",
    "\n",
    "    def predict_ratings_item_based(user_item_matrix, item_similarity_df):\n",
    "        mean_user_rating = user_item_matrix.mean(axis=1)\n",
    "        ratings_diff = user_item_matrix - mean_user_rating[:, np.newaxis]\n",
    "        sum_sim = np.array([np.abs(item_similarity_df).sum(axis=1)])\n",
    "        sum_sim[sum_sim == 0] = 1e-9  # To avoid division by zero\n",
    "        pred = mean_user_rating[:, np.newaxis] + ratings_diff.dot(item_similarity_df) / sum_sim\n",
    "        return pred\n",
    "\n",
    "    def get_top_n_recommendations(predicted_ratings_df, user_id, n=10):\n",
    "        user_pred_ratings = predicted_ratings_df.loc[user_id]\n",
    "        user_pred_ratings_sorted = user_pred_ratings.sort_values(ascending=False)\n",
    "        top_n_books = user_pred_ratings_sorted.index[:n]\n",
    "        return top_n_books\n",
    "\n",
    "    # Append the new user's ratings to the interactions DataFrame\n",
    "    updated_interactions = pd.concat([interactions, new_user_ratings], ignore_index=True)\n",
    "\n",
    "    # Create the updated user-item interaction matrix\n",
    "    updated_user_item_matrix = updated_interactions.pivot(index='user_id', columns='book_id', values='rating')\n",
    "    updated_user_item_matrix.fillna(0, inplace=True)\n",
    "\n",
    "    # Compute the updated item similarity matrix\n",
    "    updated_item_similarity = cosine_similarity(updated_user_item_matrix.T)\n",
    "    updated_item_similarity_df = pd.DataFrame(updated_item_similarity, index=updated_user_item_matrix.columns, columns=updated_user_item_matrix.columns)\n",
    "\n",
    "    # Predict ratings for the updated user-item matrix\n",
    "    updated_predicted_ratings_item_based = predict_ratings_item_based(updated_user_item_matrix.values, updated_item_similarity_df.values)\n",
    "    updated_predicted_ratings_item_based_df = pd.DataFrame(updated_predicted_ratings_item_based, index=updated_user_item_matrix.index, columns=updated_user_item_matrix.columns)\n",
    "\n",
    "    # Get top-N recommendations for the new user\n",
    "    new_user_id = new_user_ratings['user_id'].iloc[0]\n",
    "    top_n_recommendations = get_top_n_recommendations(updated_predicted_ratings_item_based_df, new_user_id, n)\n",
    "\n",
    "    return top_n_recommendations.tolist()\n",
    "\n",
    "# Example usage:\n",
    "# Existing interactions DataFrame\n",
    "interactions = pd.read_csv(\"./data/interactions.csv\")\n",
    "\n",
    "# Get item-based CF recommendations\n",
    "top_n_recommendations_item_based = get_item_based_recommendations(interactions, new_user_ratings, n=30)\n",
    "print(f\"Top-10 item-based recommendations for the new user: {top_n_recommendations_item_based}\")"
   ]
  },
  {
   "cell_type": "code",
   "execution_count": 85,
   "metadata": {},
   "outputs": [
    {
     "name": "stdout",
     "output_type": "stream",
     "text": [
      "The Bell Jar\n",
      "Little Women\n",
      "Throne of Glass\n",
      "The Sins of the Father\n",
      "Harry Potter and the Philosopher's Stone\n"
     ]
    }
   ],
   "source": [
    "new_user_books = [7300, 1201, 7057, 530615, 943]\n",
    "\n",
    "for book_id in new_user_books:\n",
    "    work_id = get_work_id(book_id)\n",
    "    print(get_original_title_by_book_id(work_id, book_works_df))"
   ]
  },
  {
   "cell_type": "markdown",
   "metadata": {},
   "source": [
    "### user-user collaborative filtering results"
   ]
  },
  {
   "cell_type": "code",
   "execution_count": 95,
   "metadata": {},
   "outputs": [
    {
     "name": "stdout",
     "output_type": "stream",
     "text": [
      "Little Women\n",
      "nan\n",
      "The Bell Jar\n",
      "Harry Potter and the Philosopher's Stone\n",
      "Throne of Glass\n",
      "The Hunger Games\n",
      "Harry Potter and the Prisoner of Azkaban\n",
      "Harry Potter and the Order of the Phoenix\n",
      "Harry Potter and the Deathly Hallows\n",
      "Harry Potter and the Goblet of Fire\n",
      "Catching Fire\n",
      "Mockingjay\n",
      "To Kill a Mockingbird\n",
      "Twilight\n",
      "Harry Potter and the Half-Blood Prince\n",
      "The Giver\n",
      "Harry Potter and the Chamber of Secrets\n",
      "Man som hatar kvinnor\n",
      "Pride and Prejudice\n",
      "The Catcher in the Rye\n",
      "Water for Elephants\n",
      "The Fellowship of the Ring\n",
      "The Lion, the Witch and the Wardrobe\n",
      "The Kite Runner\n",
      "Gone with the Wind (1 vol.)\n",
      "Jane Eyre\n",
      "The Lightning Thief\n",
      "Nineteen Eighty-Four\n",
      "Where the Sidewalk Ends: The Poems and Drawings of Shel Silverstein\n"
     ]
    }
   ],
   "source": [
    "recommended_books = top_n_recommendations_user_based\n",
    "\n",
    "count = 0\n",
    "for book_id in recommended_books:\n",
    "    work_id = get_work_id(book_id)\n",
    "    title = get_original_title_by_book_id(work_id, book_works_df)\n",
    "    if title == None or title == \"nan\" :\n",
    "        count+=1\n",
    "        continue\n",
    "    print(title)\n",
    "    count+=1"
   ]
  },
  {
   "cell_type": "markdown",
   "metadata": {},
   "source": [
    "## item-item collaborative filtering"
   ]
  },
  {
   "cell_type": "code",
   "execution_count": 102,
   "metadata": {},
   "outputs": [
    {
     "name": "stdout",
     "output_type": "stream",
     "text": [
      "The Sins of the Father\n",
      "Presumed Innocent\n",
      "The Third Twin\n",
      "Many Lives, Many Masters\n",
      "109 East Palace: Robert Oppenheimer and the Secret City of Los Alamos\n",
      "Me & Emma\n",
      "The Forgotten Garden\n",
      "A Woman of Substance\n",
      "Blink: The Power of Thinking Without Thinking\n",
      "Dark Tide: The Great Boston Molasses Flood of 1919\n",
      "Crooked Letter, Crooked Letter\n",
      "The Faith Club: A Muslim, A Christian, A Jew--Three Women Search for Understanding\n",
      "One Day\n",
      "Absolute Power\n",
      "The General's Daughter\n",
      "The Widow's War\n",
      "Black and Blue\n",
      "Where the Heart Is\n",
      "The Brethren\n",
      "The Testament\n",
      "A Reliable Wife\n",
      "Dare Me\n",
      "Tell No One\n",
      "The Thirteenth Tale\n",
      "Mountains Beyond Mountains: The Quest of Dr. Paul Farmer, a Man Who Would Cure the World\n",
      "nan\n",
      "nan\n",
      "Hopeless Magic\n",
      "Reckless Magic (Star-Crossed #1)\n"
     ]
    }
   ],
   "source": [
    "recommended_books = top_n_recommendations_item_based\n",
    "\n",
    "for book_id in recommended_books:\n",
    "    work_id = get_work_id(book_id)\n",
    "    title = get_original_title_by_book_id(work_id, book_works_df)\n",
    "    if title == None or title == \"nan\" :\n",
    "        continue\n",
    "    print(title)"
   ]
  }
 ],
 "metadata": {
  "kernelspec": {
   "display_name": "mlp",
   "language": "python",
   "name": "python3"
  },
  "language_info": {
   "codemirror_mode": {
    "name": "ipython",
    "version": 3
   },
   "file_extension": ".py",
   "mimetype": "text/x-python",
   "name": "python",
   "nbconvert_exporter": "python",
   "pygments_lexer": "ipython3",
   "version": "3.8.13"
  }
 },
 "nbformat": 4,
 "nbformat_minor": 2
}
