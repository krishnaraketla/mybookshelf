{
 "cells": [
  {
   "cell_type": "markdown",
   "metadata": {},
   "source": [
    "# USER BASED CF"
   ]
  },
  {
   "cell_type": "code",
   "execution_count": 1,
   "metadata": {},
   "outputs": [],
   "source": [
    "import pandas as pd\n",
    "import numpy as np\n",
    "\n",
    "# Assuming 'interactions' is your filtered DataFrame\n",
    "interactions = pd.read_csv(\"./data/filtered_interactions.csv\")\n",
    "\n",
    "# Create the user-item interaction matrix\n",
    "user_item_matrix = interactions.pivot(index='user_id', columns='book_id', values='rating')\n",
    "user_item_matrix.fillna(0, inplace=True)"
   ]
  },
  {
   "cell_type": "code",
   "execution_count": 2,
   "metadata": {},
   "outputs": [],
   "source": [
    "from sklearn.metrics.pairwise import cosine_similarity\n",
    "\n",
    "# Compute the user similarity matrix\n",
    "user_similarity = cosine_similarity(user_item_matrix)\n",
    "user_similarity_df = pd.DataFrame(user_similarity, index=user_item_matrix.index, columns=user_item_matrix.index)"
   ]
  },
  {
   "cell_type": "code",
   "execution_count": 3,
   "metadata": {},
   "outputs": [],
   "source": [
    "def predict_ratings(user_item_matrix, user_similarity_df):\n",
    "    mean_user_rating = user_item_matrix.mean(axis=1)\n",
    "    ratings_diff = (user_item_matrix.T - mean_user_rating).T\n",
    "    pred = mean_user_rating[:, np.newaxis] + user_similarity_df.dot(ratings_diff) / np.array([np.abs(user_similarity_df).sum(axis=1)]).T\n",
    "    return pred\n",
    "\n",
    "# Predict ratings\n",
    "predicted_ratings = predict_ratings(user_item_matrix.values, user_similarity)\n",
    "predicted_ratings_df = pd.DataFrame(predicted_ratings, index=user_item_matrix.index, columns=user_item_matrix.columns)"
   ]
  },
  {
   "cell_type": "code",
   "execution_count": 4,
   "metadata": {},
   "outputs": [
    {
     "name": "stdout",
     "output_type": "stream",
     "text": [
      "Top-10 recommendations for user 1: [943, 613, 941, 939, 938, 968, 670, 944, 772, 858]\n"
     ]
    }
   ],
   "source": [
    "def get_top_n_recommendations(predicted_ratings_df, user_id, n=10):\n",
    "    # Get the user's predicted ratings\n",
    "    user_pred_ratings = predicted_ratings_df.loc[user_id]\n",
    "    \n",
    "    # Sort the predicted ratings in descending order\n",
    "    user_pred_ratings_sorted = user_pred_ratings.sort_values(ascending=False)\n",
    "    \n",
    "    # Get the book IDs of the top N predictions\n",
    "    top_n_books = user_pred_ratings_sorted.index[:n]\n",
    "    return top_n_books\n",
    "\n",
    "# Example: Get top-10 recommendations for a specific user (user_id=1)\n",
    "user_id = 1\n",
    "top_n_recommendations = get_top_n_recommendations(predicted_ratings_df, user_id, n=10)\n",
    "print(f\"Top-10 recommendations for user {user_id}: {top_n_recommendations.tolist()}\")"
   ]
  },
  {
   "cell_type": "markdown",
   "metadata": {},
   "source": [
    "# ITEM BASED CF"
   ]
  },
  {
   "cell_type": "code",
   "execution_count": 5,
   "metadata": {},
   "outputs": [],
   "source": [
    "from sklearn.metrics.pairwise import cosine_similarity\n",
    "\n",
    "# Compute the item similarity matrix\n",
    "item_similarity = cosine_similarity(user_item_matrix.T)\n",
    "item_similarity_df = pd.DataFrame(item_similarity, index=user_item_matrix.columns, columns=user_item_matrix.columns)"
   ]
  },
  {
   "cell_type": "code",
   "execution_count": 6,
   "metadata": {},
   "outputs": [],
   "source": [
    "def predict_ratings_item_based(user_item_matrix, item_similarity_df):\n",
    "    mean_user_rating = user_item_matrix.mean(axis=1)\n",
    "    ratings_diff = user_item_matrix - mean_user_rating[:, np.newaxis]\n",
    "    pred = mean_user_rating[:, np.newaxis] + ratings_diff.dot(item_similarity_df) / np.array([np.abs(item_similarity_df).sum(axis=1)])\n",
    "    return pred\n",
    "\n",
    "# Predict ratings\n",
    "predicted_ratings_item_based = predict_ratings_item_based(user_item_matrix.values, item_similarity_df.values)\n",
    "predicted_ratings_item_based_df = pd.DataFrame(predicted_ratings_item_based, index=user_item_matrix.index, columns=user_item_matrix.columns)"
   ]
  },
  {
   "cell_type": "code",
   "execution_count": 7,
   "metadata": {},
   "outputs": [
    {
     "name": "stdout",
     "output_type": "stream",
     "text": [
      "Top-10 recommendations for user 1 (item-based): [1042, 983, 1036, 972, 973, 974, 1040, 949, 1043, 975]\n"
     ]
    }
   ],
   "source": [
    "def get_top_n_recommendations_item_based(predicted_ratings_df, user_id, n=10):\n",
    "    # Get the user's predicted ratings\n",
    "    user_pred_ratings = predicted_ratings_df.loc[user_id]\n",
    "    \n",
    "    # Sort the predicted ratings in descending order\n",
    "    user_pred_ratings_sorted = user_pred_ratings.sort_values(ascending=False)\n",
    "    \n",
    "    # Get the book IDs of the top N predictions\n",
    "    top_n_books = user_pred_ratings_sorted.index[:n]\n",
    "    return top_n_books\n",
    "\n",
    "# Example: Get top-10 recommendations for a specific user (user_id=1)\n",
    "user_id = 1\n",
    "top_n_recommendations_item_based = get_top_n_recommendations_item_based(predicted_ratings_item_based_df, user_id, n=10)\n",
    "print(f\"Top-10 recommendations for user {user_id} (item-based): {top_n_recommendations_item_based.tolist()}\")"
   ]
  },
  {
   "cell_type": "markdown",
   "metadata": {},
   "source": [
    "# NEW USER"
   ]
  },
  {
   "cell_type": "code",
   "execution_count": 8,
   "metadata": {},
   "outputs": [],
   "source": [
    "import pandas as pd\n",
    "import numpy as np\n",
    "# Load the CSV files\n",
    "book_id_map_df = pd.read_csv(\"./data/book_id_map.csv\")\n",
    "book_works_df = pd.read_csv(\"./data/book_works.csv\")\n",
    "\n",
    "book_id_map = dict(zip(book_id_map_df['book_id_csv'], book_id_map_df['book_id']))\n",
    "\n",
    "def get_work_id(book_id):\n",
    "    return book_id_map[book_id]\n",
    "\n",
    "# Define the function to get original title by work_id\n",
    "def get_original_title_by_book_id(work_id, book_works_df):\n",
    "    # Find the row with the matching best_book_id\n",
    "    match = book_works_df[book_works_df['best_book_id'] == work_id]\n",
    "    \n",
    "    # If a match is found, return the original title\n",
    "    if not match.empty:\n",
    "        return match['original_title'].values[0]\n",
    "    else:\n",
    "        return None"
   ]
  },
  {
   "cell_type": "code",
   "execution_count": 9,
   "metadata": {},
   "outputs": [],
   "source": [
    "import pandas as pd\n",
    "import numpy as np\n",
    "from sklearn.metrics.pairwise import cosine_similarity\n",
    "\n",
    "def get_user_based_recommendations(interactions, new_user_ratings, n=10):\n",
    "    \"\"\"\n",
    "    Generate user-based collaborative filtering recommendations for a new user.\n",
    "\n",
    "    Parameters:\n",
    "    - interactions (pd.DataFrame): Existing user-item interactions DataFrame.\n",
    "    - new_user_ratings (pd.DataFrame): New user's ratings DataFrame with columns ['user_id', 'book_id', 'rating'].\n",
    "    - n (int): Number of recommendations to generate.\n",
    "\n",
    "    Returns:\n",
    "    - list: Top-N recommended book IDs for the new user.\n",
    "    \"\"\"\n",
    "\n",
    "    def predict_ratings(user_item_matrix, user_similarity_df):\n",
    "        mean_user_rating = user_item_matrix.mean(axis=1)\n",
    "        ratings_diff = (user_item_matrix.T - mean_user_rating).T\n",
    "        pred = mean_user_rating[:, np.newaxis] + user_similarity_df.dot(ratings_diff) / np.array([np.abs(user_similarity_df).sum(axis=1)]).T\n",
    "        return pred\n",
    "\n",
    "    def get_top_n_recommendations(predicted_ratings_df, user_id, n=10):\n",
    "        user_pred_ratings = predicted_ratings_df.loc[user_id]\n",
    "        user_pred_ratings_sorted = user_pred_ratings.sort_values(ascending=False)\n",
    "        top_n_books = user_pred_ratings_sorted.index[:n]\n",
    "        return top_n_books\n",
    "\n",
    "    # Append the new user's ratings to the interactions DataFrame\n",
    "    updated_interactions = pd.concat([interactions, new_user_ratings], ignore_index=True)\n",
    "\n",
    "    # Create the updated user-item interaction matrix\n",
    "    updated_user_item_matrix = updated_interactions.pivot(index='user_id', columns='book_id', values='rating')\n",
    "    updated_user_item_matrix.fillna(0, inplace=True)\n",
    "\n",
    "    # Compute the updated user similarity matrix\n",
    "    updated_user_similarity = cosine_similarity(updated_user_item_matrix)\n",
    "    updated_user_similarity_df = pd.DataFrame(updated_user_similarity, index=updated_user_item_matrix.index, columns=updated_user_item_matrix.index)\n",
    "\n",
    "    # Predict ratings for the updated user-item matrix\n",
    "    updated_predicted_ratings = predict_ratings(updated_user_item_matrix.values, updated_user_similarity_df)\n",
    "    updated_predicted_ratings_df = pd.DataFrame(updated_predicted_ratings, index=updated_user_item_matrix.index, columns=updated_user_item_matrix.columns)\n",
    "\n",
    "    # Get top-N recommendations for the new user\n",
    "    new_user_id = new_user_ratings['user_id'].iloc[0]\n",
    "    top_n_recommendations = get_top_n_recommendations(updated_predicted_ratings_df, new_user_id, n)\n",
    "\n",
    "    return top_n_recommendations.tolist()"
   ]
  },
  {
   "cell_type": "code",
   "execution_count": 10,
   "metadata": {},
   "outputs": [],
   "source": [
    "# New user's ratings DataFrame\n",
    "new_user_ratings = pd.DataFrame({\n",
    "    'user_id': 999999999,  # Replace with the new user's ID\n",
    "    'book_id': [7300, 1201, 7057, 530615, 943],  # Replace with the rated book IDs\n",
    "    'rating': [5, 1, 1, 0, 5]  # Replace with the ratings\n",
    "})"
   ]
  },
  {
   "cell_type": "code",
   "execution_count": 18,
   "metadata": {},
   "outputs": [
    {
     "name": "stdout",
     "output_type": "stream",
     "text": [
      "Top-10 user-based recommendations for the new user: [943, 7300, 939, 941, 536, 938, 613, 968, 944, 1387, 670, 862, 786, 1386, 1201, 997, 1574, 772, 1000, 524, 7351, 1013, 858, 1003, 996, 461, 1012, 1002, 1203, 821]\n"
     ]
    }
   ],
   "source": [
    "# Example usage:\n",
    "# Existing interactions DataFrame\n",
    "interactions = pd.read_csv(\"./data/interactions.csv\")\n",
    "\n",
    "# Get user-based CF recommendations\n",
    "top_n_recommendations_user_based = get_user_based_recommendations(interactions, new_user_ratings, n=30)\n",
    "print(f\"Top-10 user-based recommendations for the new user: {top_n_recommendations_user_based}\")"
   ]
  },
  {
   "cell_type": "code",
   "execution_count": 12,
   "metadata": {},
   "outputs": [
    {
     "name": "stdout",
     "output_type": "stream",
     "text": [
      "Top-10 item-based recommendations for the new user: [8100, 8092, 8099, 8102, 6891, 6890, 6889, 6888, 5767, 6838, 8096, 6182, 8083, 8077, 7006, 6183, 6184, 6185, 6186, 6304, 6412, 7300, 15441, 12894, 15426, 15428, 15437, 15429, 15449, 15465]\n"
     ]
    },
    {
     "name": "stderr",
     "output_type": "stream",
     "text": [
      "/var/folders/xw/9rs_lp_x60dgdwv3t7gbk6q80000gn/T/ipykernel_78545/2576503050.py:21: RuntimeWarning: invalid value encountered in divide\n",
      "  pred = mean_user_rating[:, np.newaxis] + ratings_diff.dot(item_similarity_df) / np.array([np.abs(item_similarity_df).sum(axis=1)])\n"
     ]
    }
   ],
   "source": [
    "import pandas as pd\n",
    "import numpy as np\n",
    "from sklearn.metrics.pairwise import cosine_similarity\n",
    "\n",
    "def get_item_based_recommendations(interactions, new_user_ratings, n=10):\n",
    "    \"\"\"\n",
    "    Generate item-based collaborative filtering recommendations for a new user.\n",
    "\n",
    "    Parameters:\n",
    "    - interactions (pd.DataFrame): Existing user-item interactions DataFrame.\n",
    "    - new_user_ratings (pd.DataFrame): New user's ratings DataFrame with columns ['user_id', 'book_id', 'rating'].\n",
    "    - n (int): Number of recommendations to generate.\n",
    "\n",
    "    Returns:\n",
    "    - list: Top-N recommended book IDs for the new user.\n",
    "    \"\"\"\n",
    "\n",
    "    def predict_ratings_item_based(user_item_matrix, item_similarity_df):\n",
    "        mean_user_rating = user_item_matrix.mean(axis=1)\n",
    "        ratings_diff = user_item_matrix - mean_user_rating[:, np.newaxis]\n",
    "        pred = mean_user_rating[:, np.newaxis] + ratings_diff.dot(item_similarity_df) / np.array([np.abs(item_similarity_df).sum(axis=1)])\n",
    "        return pred\n",
    "\n",
    "    def get_top_n_recommendations(predicted_ratings_df, user_id, n=10):\n",
    "        user_pred_ratings = predicted_ratings_df.loc[user_id]\n",
    "        user_pred_ratings_sorted = user_pred_ratings.sort_values(ascending=False)\n",
    "        top_n_books = user_pred_ratings_sorted.index[:n]\n",
    "        return top_n_books\n",
    "\n",
    "    # Append the new user's ratings to the interactions DataFrame\n",
    "    updated_interactions = pd.concat([interactions, new_user_ratings], ignore_index=True)\n",
    "\n",
    "    # Create the updated user-item interaction matrix\n",
    "    updated_user_item_matrix = updated_interactions.pivot(index='user_id', columns='book_id', values='rating')\n",
    "    updated_user_item_matrix.fillna(0, inplace=True)\n",
    "\n",
    "    # Compute the updated item similarity matrix\n",
    "    updated_item_similarity = cosine_similarity(updated_user_item_matrix.T)\n",
    "    updated_item_similarity_df = pd.DataFrame(updated_item_similarity, index=updated_user_item_matrix.columns, columns=updated_user_item_matrix.columns)\n",
    "\n",
    "    # Predict ratings for the updated user-item matrix\n",
    "    updated_predicted_ratings_item_based = predict_ratings_item_based(updated_user_item_matrix.values, updated_item_similarity_df.values)\n",
    "    updated_predicted_ratings_item_based_df = pd.DataFrame(updated_predicted_ratings_item_based, index=updated_user_item_matrix.index, columns=updated_user_item_matrix.columns)\n",
    "\n",
    "    # Get top-N recommendations for the new user\n",
    "    new_user_id = new_user_ratings['user_id'].iloc[0]\n",
    "    top_n_recommendations = get_top_n_recommendations(updated_predicted_ratings_item_based_df, new_user_id, n)\n",
    "\n",
    "    return top_n_recommendations.tolist()\n",
    "\n",
    "# Example usage:\n",
    "# Existing interactions DataFrame\n",
    "interactions = pd.read_csv(\"./data/interactions.csv\")\n",
    "\n",
    "# Get item-based CF recommendations\n",
    "top_n_recommendations_item_based = get_item_based_recommendations(interactions, new_user_ratings, n=30)\n",
    "print(f\"Top-10 item-based recommendations for the new user: {top_n_recommendations_item_based}\")"
   ]
  },
  {
   "cell_type": "code",
   "execution_count": 13,
   "metadata": {},
   "outputs": [
    {
     "name": "stdout",
     "output_type": "stream",
     "text": [
      "The Bell Jar\n",
      "Little Women\n",
      "The Sins of the Father\n",
      "Harry Potter and the Philosopher's Stone\n"
     ]
    }
   ],
   "source": [
    "new_user_books = [7300, 1201, 530615, 943]\n",
    "\n",
    "for book_id in new_user_books:\n",
    "    work_id = get_work_id(book_id)\n",
    "    print(get_original_title_by_book_id(work_id, book_works_df))"
   ]
  },
  {
   "cell_type": "code",
   "execution_count": 19,
   "metadata": {},
   "outputs": [
    {
     "name": "stdout",
     "output_type": "stream",
     "text": [
      "Harry Potter and the Philosopher's Stone\n",
      "The Bell Jar\n",
      "Harry Potter and the Order of the Phoenix\n",
      "Harry Potter and the Prisoner of Azkaban\n",
      "The Hunger Games\n",
      "Harry Potter and the Goblet of Fire\n",
      "Harry Potter and the Deathly Hallows\n",
      "Harry Potter and the Chamber of Secrets\n",
      "Harry Potter and the Half-Blood Prince\n",
      "Catching Fire\n",
      "The Fellowship of the Ring\n",
      "The Catcher in the Rye\n",
      "To Kill a Mockingbird\n",
      "Mockingjay\n",
      "Little Women\n",
      "The Lion, the Witch and the Wardrobe\n",
      "The Giver\n",
      "The Hobbit : or There and Back Again\n",
      "Twilight\n",
      "Man som hatar kvinnor\n",
      "Un di Velt Hot Geshvign\n",
      "The Kite Runner\n",
      "The Great Gatsby\n",
      "A Game of Thrones\n",
      "Animal Farm: A Fairy Story\n",
      "Pride and Prejudice\n",
      "Jane Eyre\n",
      "The Da Vinci code\n",
      "Nineteen Eighty-Four\n"
     ]
    }
   ],
   "source": [
    "recommended_books = top_n_recommendations_user_based\n",
    "\n",
    "for book_id in recommended_books:\n",
    "    work_id = get_work_id(book_id)\n",
    "    title = get_original_title_by_book_id(work_id, book_works_df)\n",
    "    if title == None or title == \"nan\" :\n",
    "        continue\n",
    "    print(title)"
   ]
  },
  {
   "cell_type": "code",
   "execution_count": 15,
   "metadata": {},
   "outputs": [
    {
     "name": "stdout",
     "output_type": "stream",
     "text": [
      "Lips Touch: Three Times\n",
      "The Social Animal: The Hidden Sources of Love, Character, and Achievement\n",
      "The Mortal Instrument Series: City of Bones / City of Ashes / City of Glass / City of Fallen Angels\n",
      "Reckless Magic (Star-Crossed #1)\n",
      "Hopeless Magic\n",
      "nan\n",
      "nan\n",
      "nan\n",
      "Incarceron\n",
      "Dreamfever\n",
      "Shadowfever\n",
      "Faefever\n",
      "Bloodfever\n",
      "Darkfever\n",
      "Fury\n",
      "Easy\n",
      "The Bell Jar\n",
      "109 East Palace: Robert Oppenheimer and the Secret City of Los Alamos\n",
      "The Thirteenth Tale\n",
      "The Widow's War\n",
      "The Third Twin\n",
      "Many Lives, Many Masters\n",
      "Me & Emma\n",
      "The General's Daughter\n"
     ]
    }
   ],
   "source": [
    "recommended_books = top_n_recommendations_item_based\n",
    "\n",
    "for book_id in recommended_books:\n",
    "    work_id = get_work_id(book_id)\n",
    "    title = get_original_title_by_book_id(work_id, book_works_df)\n",
    "    if title == None or title == \"nan\" :\n",
    "        continue\n",
    "    print(title)"
   ]
  }
 ],
 "metadata": {
  "kernelspec": {
   "display_name": "mlp",
   "language": "python",
   "name": "python3"
  },
  "language_info": {
   "codemirror_mode": {
    "name": "ipython",
    "version": 3
   },
   "file_extension": ".py",
   "mimetype": "text/x-python",
   "name": "python",
   "nbconvert_exporter": "python",
   "pygments_lexer": "ipython3",
   "version": "3.8.13"
  }
 },
 "nbformat": 4,
 "nbformat_minor": 2
}
